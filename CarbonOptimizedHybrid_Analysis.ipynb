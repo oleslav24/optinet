{
 "cells": [
  {
   "cell_type": "markdown",
   "id": "49aa9b39",
   "metadata": {},
   "source": [
    "# Carbon-Optimized Hybrid Simulation\n",
    "This notebook demonstrates an efficient scheduling algorithm combining carbon-awareness with hybrid adaptive control."
   ]
  },
  {
   "cell_type": "code",
   "execution_count": null,
   "id": "faad22aa",
   "metadata": {},
   "outputs": [],
   "source": [
    "import pandas as pd\n",
    "\n",
    "# Load simulation results\n",
    "df = pd.read_csv(\"results/carbon_optimized_fast/co_hybrid_fast_results.csv\")\n",
    "df.head()"
   ]
  },
  {
   "cell_type": "code",
   "execution_count": null,
   "id": "06ac9ddb",
   "metadata": {},
   "outputs": [],
   "source": [
    "# Summary metrics\n",
    "summary = {\n",
    "    \"Total Tasks\": len(df),\n",
    "    \"Average Delay (min)\": round(df[\"delay_min\"].mean(), 2),\n",
    "    \"Total Energy (MWh)\": round(df[\"energy_wh\"].sum() / 1e6, 2),\n",
    "    \"Total CO2 Emissions (tonnes)\": round(df[\"carbon_emission_g\"].sum() / 1e6, 2)\n",
    "}\n",
    "summary"
   ]
  },
  {
   "cell_type": "code",
   "execution_count": null,
   "id": "34d07a11",
   "metadata": {},
   "outputs": [],
   "source": [
    "import matplotlib.pyplot as plt\n",
    "\n",
    "# Histogram of carbon intensity\n",
    "plt.figure(figsize=(8, 4))\n",
    "df[\"carbon_intensity\"].hist(bins=50)\n",
    "plt.title(\"Carbon Intensity of Assigned Nodes\")\n",
    "plt.xlabel(\"gCO2 / Wh\")\n",
    "plt.ylabel(\"Task Count\")\n",
    "plt.grid(True)\n",
    "plt.tight_layout()\n",
    "plt.show()"
   ]
  },
  {
   "cell_type": "code",
   "execution_count": null,
   "id": "753826b2",
   "metadata": {},
   "outputs": [],
   "source": [
    "# Distribution of delays\n",
    "plt.figure(figsize=(6, 3))\n",
    "df[\"delay_min\"].hist(bins=10)\n",
    "plt.title(\"Delay Distribution\")\n",
    "plt.xlabel(\"Delay (minutes)\")\n",
    "plt.ylabel(\"Number of Tasks\")\n",
    "plt.grid(True)\n",
    "plt.tight_layout()\n",
    "plt.show()"
   ]
  }
 ],
 "metadata": {},
 "nbformat": 4,
 "nbformat_minor": 5
}
